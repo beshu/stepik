{
 "cells": [
  {
   "cell_type": "code",
   "execution_count": 2,
   "metadata": {
    "collapsed": true
   },
   "outputs": [
    {
     "name": "stdout",
     "output_type": "stream",
     "text": [
      "Hello world!\n",
      "HelloWorld!HelloWorld!HelloWorld!\n"
     ]
    }
   ],
   "source": []
  },
  {
   "cell_type": "code",
   "execution_count": 4,
   "metadata": {
    "collapsed": true
   },
   "outputs": [
    {
     "name": "stdout",
     "output_type": "stream",
     "text": [
      "False\n",
      "True\n",
      "True\n",
      "True\n",
      "True\n"
     ]
    }
   ],
   "source": []
  },
  {
   "cell_type": "code",
   "execution_count": 124,
   "metadata": {
    "scrolled": true
   },
   "outputs": [],
   "source": [
    "import os \n",
    "import csv\n",
    "\n",
    "class CarBase:\n",
    "    def __init__(self, car_type, brand, photo_file_name, carrying):\n",
    "        allowed_attr = ('car', 'truck', 'spec_machine')\n",
    "        if car_type not in allowed_attr:\n",
    "            raise ValueError(\"Car type should be 'car', 'truck', or 'spec_machine' only\")\n",
    "        else:\n",
    "            self.car_type = car_type\n",
    "        self.brand = brand\n",
    "        self.photo_file_name = photo_file_name\n",
    "        if carrying == '':\n",
    "            self.carrying = carrying\n",
    "        else:\n",
    "            self.carrying = float(carrying)\n",
    "\n",
    "    def get_photo_file_ext(self):\n",
    "        path_ext = path.splitext(self.photo_file_name)\n",
    "        return path_ext[1]\n",
    "        \n",
    "class Car(CarBase):\n",
    "    def __init__(self, car_type, brand, passenger_seats_count, photo_file_name, carrying):\n",
    "        super().__init__(car_type, brand, photo_file_name, carrying)\n",
    "        self.passenger_seats_count = int(passenger_seats_count)\n",
    "\n",
    "\n",
    "class Truck(CarBase):\n",
    "    def __init__(self, car_type, brand, photo_file_name, carrying, body_whl):\n",
    "        super().__init__(car_type, brand, photo_file_name, carrying)\n",
    "        self.body_whl = body_whl\n",
    "        if body_whl is \"\":\n",
    "            self.body_length, self.body_width, self.body_height = float(0)\n",
    "        else:\n",
    "            self.body_length, self.body_width, self.body_height = [float(param) for param in body_whl.split('x')]\n",
    "\n",
    "    def get_body_volume(self):\n",
    "        volume = self.body_length * self.body_width * self.body_height\n",
    "        return volume \n",
    "\n",
    "\n",
    "class SpecMachine(CarBase):\n",
    "    def __init__(self, car_type, brand, photo_file_name, carrying, extra):\n",
    "        super().__init__(car_type, brand, photo_file_name, carrying)\n",
    "        self.extra = extra\n",
    "\n",
    "\n",
    "def get_car_list(csv_filename):\n",
    "\n",
    "    variable_dict = {}\n",
    "    cars_list = []\n",
    "    \n",
    "\n",
    "    def make_vars(name, container, index=0):\n",
    "        for _ in range(len(container)):\n",
    "            key = '{}{}'.format(name, index)\n",
    "            value = container[index]\n",
    "            if value == []:\n",
    "                continue\n",
    "            else:\n",
    "                variable_dict[key] = value\n",
    "            index += 1\n",
    "\n",
    "    def make_list(index=0):\n",
    "        dict_list = [value for value in variable_dict.items()]\n",
    "        while index < len(dict_list):\n",
    "            element = dict_list[index]\n",
    "            try:\n",
    "                if element[1][0] == 'car':\n",
    "                    cars_list.append(Car(*element[1][0:5]))\n",
    "                elif element[1][0] == 'truck':\n",
    "                    cars_list.append(Truck(*element[1][0:5]))\n",
    "                elif element[1][0] == 'spec_machine':\n",
    "                    cars_list.append(SpecMachine(*element[1][0:5]))\n",
    "            except(ValueError, TypeError):\n",
    "                pass\n",
    "            index += 1\n",
    "\n",
    "    with open(csv_filename) as csv_fd:\n",
    "        reader = csv.reader(csv_fd, delimiter=\";\")\n",
    "        next(reader)\n",
    "        rows_list = []\n",
    "        for row in reader:\n",
    "            rows_list.append(row)\n",
    "\n",
    "        make_vars('car', rows_list)\n",
    "        make_list()\n",
    "        \n",
    "    print(variable_dict)\n",
    "    return cars_list\n"
   ]
  },
  {
   "cell_type": "code",
   "execution_count": 117,
   "metadata": {},
   "outputs": [
    {
     "name": "stdout",
     "output_type": "stream",
     "text": [
      "{'car0': ['car', 'Nissan xTtrail', '4', 'f1.jpeg', '', '2.5', ''], 'car1': ['truck', 'Man', '', 'f2.png', '8x3x2.5', '20', ''], 'car2': ['truck', 'Man', '', 'f2.png', '', '20', ''], 'car3': ['car', 'Mazda 6', '4', 'f3.jpeg', '', '2.5', ''], 'car4': ['', '', '', ''], 'car5': ['spec_machine', 'Hitachi', '', 'f4', '', '1.2', 'Легкая техника для уборки снега']}\n"
     ]
    },
    {
     "ename": "TypeError",
     "evalue": "__init__() takes 6 positional arguments but 8 were given",
     "output_type": "error",
     "traceback": [
      "\u001b[0;31m---------------------------------------------------------------------------\u001b[0m",
      "\u001b[0;31mTypeError\u001b[0m                                 Traceback (most recent call last)",
      "\u001b[0;32m<ipython-input-117-5476db45f5a1>\u001b[0m in \u001b[0;36m<module>\u001b[0;34m\u001b[0m\n\u001b[1;32m      1\u001b[0m \u001b[0mget_car_list\u001b[0m\u001b[0;34m(\u001b[0m\u001b[0;34m'cars.csv'\u001b[0m\u001b[0;34m)\u001b[0m\u001b[0;34m\u001b[0m\u001b[0m\n\u001b[0;32m----> 2\u001b[0;31m \u001b[0mprint\u001b[0m\u001b[0;34m(\u001b[0m\u001b[0mTruck\u001b[0m\u001b[0;34m(\u001b[0m\u001b[0;34m'truck'\u001b[0m\u001b[0;34m,\u001b[0m \u001b[0;34m'Man'\u001b[0m\u001b[0;34m,\u001b[0m \u001b[0;34m''\u001b[0m\u001b[0;34m,\u001b[0m \u001b[0;34m'f2.png'\u001b[0m\u001b[0;34m,\u001b[0m \u001b[0;34m'8x3x2.5'\u001b[0m\u001b[0;34m,\u001b[0m \u001b[0;34m'20'\u001b[0m\u001b[0;34m,\u001b[0m \u001b[0;34m''\u001b[0m\u001b[0;34m)\u001b[0m\u001b[0;34m)\u001b[0m\u001b[0;34m\u001b[0m\u001b[0m\n\u001b[0m",
      "\u001b[0;31mTypeError\u001b[0m: __init__() takes 6 positional arguments but 8 were given"
     ]
    }
   ],
   "source": [
    "get_car_list('cars.csv')\n",
    "print(Truck('truck', 'Man', '', 'f2.png', '8x3x2.5', '20', ''))\n"
   ]
  },
  {
   "cell_type": "code",
   "execution_count": 173,
   "metadata": {},
   "outputs": [],
   "source": [
    "import os \n",
    "import csv\n",
    "\n",
    "class CarBase:\n",
    "    def __init__(self, car_type, brand, photo_file_name, carrying):\n",
    "        allowed_attr = ('car', 'truck', 'spec_machine')\n",
    "        if car_type not in allowed_attr:\n",
    "            raise ValueError(\"Car type should be 'car', 'truck', or 'spec_machine' only\")\n",
    "        else:\n",
    "            self.car_type = car_type\n",
    "        self.brand = brand\n",
    "        self.photo_file_name = photo_file_name\n",
    "        try:\n",
    "            self.carrying = float(carrying)\n",
    "        except ValueError:\n",
    "            self.carrying = ''\n",
    "\n",
    "    def get_photo_file_ext(self):\n",
    "        path_ext = os.path.splitext(self.photo_file_name)\n",
    "        return path_ext[1]\n",
    "        \n",
    "class Car(CarBase):\n",
    "    def __init__(self, car_type, brand, passenger_seats_count, photo_file_name, carrying):\n",
    "        super().__init__(car_type, brand, photo_file_name, carrying)\n",
    "        self.passenger_seats_count = int(passenger_seats_count)\n",
    "\n",
    "\n",
    "class Truck(CarBase):\n",
    "    def __init__(self, car_type, brand, photo_file_name, carrying, body_whl):\n",
    "        super().__init__(car_type, brand, photo_file_name, carrying)\n",
    "        self.body_whl = body_whl\n",
    "        if self.body_whl == '':\n",
    "            try:\n",
    "                self.body_length, self.body_width, self.body_height = float(0)\n",
    "            except ValueError:\n",
    "                pass\n",
    "            except TypeError:\n",
    "                pass\n",
    "        else:\n",
    "            try:\n",
    "                self.body_length, self.body_width, self.body_height = [float(param) for param in self.body_whl.split('x')]\n",
    "            except ValueError:\n",
    "                print(\"Float Error_2\")\n",
    "                \n",
    "    def get_body_volume(self):\n",
    "        volume = self.body_length * self.body_width * self.body_height\n",
    "        return volume \n",
    "\n",
    "\n",
    "class SpecMachine(CarBase):\n",
    "    def __init__(self, car_type, brand, photo_file_name, carrying, extra):\n",
    "        super().__init__(car_type, brand, photo_file_name, carrying)\n",
    "        self.extra = extra\n",
    "\n",
    "class CsvParser:\n",
    "    \n",
    "    done = False\n",
    "    \n",
    "    def __init__(self, lst):\n",
    "        self.lst = lst\n",
    "              \n",
    "    @property\n",
    "    def attr_to_init(self):\n",
    "        attrs_lst = self._clear(self.csv_dict())\n",
    "        return attrs_lst\n",
    "    \n",
    "    def _clear(self, container):\n",
    "        cleared_dict = {}\n",
    "        for key, value in container.items():\n",
    "            try:\n",
    "                assert len(value) > 5\n",
    "                if value[0] == 'car':\n",
    "                    assert Car(*value[0:5])\n",
    "                elif value[0] == 'truck':\n",
    "                    assert Truck(*value[0:5])\n",
    "                elif value[0] == 'spec_machine':\n",
    "                    assert SpecMachine(*value[0:5])\n",
    "            except AssertionError:\n",
    "                continue\n",
    "            else:\n",
    "                cleared_dict[key] = value\n",
    "        CsvParser.done = True\n",
    "        return list(cleared_dict.values())\n",
    "    \n",
    "    def csv_dict(self, sub_id='car_id_', index=0):\n",
    "        vars_dict = {}\n",
    "        for _ in range(len(self.lst)):\n",
    "            key = '{}{}'.format(sub_id, index)\n",
    "            value = self.lst[index]\n",
    "            vars_dict[key] = value\n",
    "            index += 1\n",
    "        return vars_dict\n",
    "    \n",
    "def get_car_list(csv_filename):\n",
    "    \n",
    "    rows_list = []\n",
    "    car_list = []\n",
    "    parser = CsvParser(rows_list)\n",
    "    \n",
    "    with open(csv_filename) as csv_fd:\n",
    "        reader = csv.reader(csv_fd, delimiter=\";\")\n",
    "        next(reader)\n",
    "        for row in reader:\n",
    "            rows_list.append(row)\n",
    "\n",
    "    for value in parser.attr_to_init:\n",
    "        if value[0] == 'car':\n",
    "            car_list.append(Car(*value[0:5]))\n",
    "        elif value[0] == 'truck':\n",
    "            car_list.append(Truck(*value[0:5]))\n",
    "        elif value[0] == 'spec_machine':\n",
    "            car_list.append(SpecMachine(*value[0:5]))\n",
    "    return car_list"
   ]
  },
  {
   "cell_type": "code",
   "execution_count": 174,
   "metadata": {},
   "outputs": [
    {
     "data": {
      "text/plain": [
       "[<__main__.Car at 0x7f5e7353c128>,\n",
       " <__main__.Truck at 0x7f5e7353c9b0>,\n",
       " <__main__.Truck at 0x7f5e7353c780>,\n",
       " <__main__.Car at 0x7f5e7353c940>,\n",
       " <__main__.SpecMachine at 0x7f5e7353c2b0>]"
      ]
     },
     "execution_count": 174,
     "metadata": {},
     "output_type": "execute_result"
    }
   ],
   "source": [
    "get_car_list('cars.csv')\n"
   ]
  },
  {
   "cell_type": "code",
   "execution_count": null,
   "metadata": {},
   "outputs": [],
   "source": []
  }
 ],
 "metadata": {
  "kernelspec": {
   "display_name": "Python 3",
   "language": "python",
   "name": "python3"
  },
  "language_info": {
   "codemirror_mode": {
    "name": "ipython",
    "version": 3
   },
   "file_extension": ".py",
   "mimetype": "text/x-python",
   "name": "python",
   "nbconvert_exporter": "python",
   "pygments_lexer": "ipython3",
   "version": "3.6.5"
  }
 },
 "nbformat": 4,
 "nbformat_minor": 2
}
