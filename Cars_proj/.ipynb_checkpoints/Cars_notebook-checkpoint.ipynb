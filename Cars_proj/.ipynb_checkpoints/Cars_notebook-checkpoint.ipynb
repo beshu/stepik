{
 "cells": [
  {
   "cell_type": "code",
   "execution_count": 2,
   "metadata": {},
   "outputs": [
    {
     "name": "stdout",
     "output_type": "stream",
     "text": [
      "Hello world!\n",
      "HelloWorld!HelloWorld!HelloWorld!\n"
     ]
    }
   ],
   "source": [
    "\n"
   ]
  },
  {
   "cell_type": "code",
   "execution_count": 4,
   "metadata": {
    "scrolled": true
   },
   "outputs": [
    {
     "name": "stdout",
     "output_type": "stream",
     "text": [
      "False\n",
      "True\n",
      "True\n",
      "True\n",
      "True\n"
     ]
    }
   ],
   "source": []
  },
  {
   "cell_type": "code",
   "execution_count": 20,
   "metadata": {
    "scrolled": true
   },
   "outputs": [],
   "source": [
    "import os \n",
    "import csv\n",
    "\n",
    "class CarBase:\n",
    "    def __init__(self, car_type, brand, photo_file_name, carrying):\n",
    "        allowed_attr = ('car', 'truck', 'spec_machine')\n",
    "        if car_type not in allowed_attr:\n",
    "            raise ValueError(\"Car type should be 'car', 'truck', or 'spec_machine' only\")\n",
    "        else:\n",
    "            self.car_type = car_type\n",
    "        self.brand = brand\n",
    "        self.photo_file_name = photo_file_name\n",
    "        if carrying == '':\n",
    "            self.carrying = carrying\n",
    "        else:\n",
    "            self.carrying = float(carrying)\n",
    "\n",
    "    def get_photo_file_ext(self):\n",
    "        path_ext = path.splitext(self.photo_file_name)\n",
    "        return path_ext[1]\n",
    "        \n",
    "class Car(CarBase):\n",
    "    def __init__(self, car_type, brand, passenger_seats_count, photo_file_name, carrying):\n",
    "        super().__init__(car_type, brand, photo_file_name, carrying)\n",
    "        self.passenger_seats_count = int(passenger_seats_count)\n",
    "\n",
    "\n",
    "class Truck(CarBase):\n",
    "    def __init__(self, car_type, brand, photo_file_name, body_whl, carrying):\n",
    "        super().__init__(car_type, brand, photo_file_name, carrying)\n",
    "        self.body_whl = body_whl\n",
    "        if body_whl is \"\":\n",
    "            self.body_length, self.body_width, self.body_height = float(0)\n",
    "        else:\n",
    "            self.body_length, self.body_width, self.body_height = [float(param) for param in body_whl.split('x')]\n",
    "\n",
    "    def get_body_volume(self):\n",
    "        volume = self.body_length * self.body_width * self.body_height\n",
    "        return volume \n",
    "\n",
    "\n",
    "class SpecMachine(CarBase):\n",
    "    def __init__(self, car_type, brand, photo_file_name, carrying, extra):\n",
    "        super().__init__(car_type, brand, photo_file_name, carrying)\n",
    "        self.extra = extra\n",
    "\n",
    "\n",
    "def get_car_list(csv_filename):\n",
    "\n",
    "    variable_dict = {}\n",
    "    cars_list = []\n",
    "    \n",
    "\n",
    "    def make_vars(name, container, index=0):\n",
    "        for _ in range(len(container)):\n",
    "            key = '{}{}'.format(name, index)\n",
    "            value = container[index]\n",
    "            if value == []:\n",
    "                continue\n",
    "            else:\n",
    "                variable_dict[key] = value\n",
    "            index += 1\n",
    "\n",
    "    def make_list(index=0):\n",
    "        dict_list = [value for value in variable_dict.items()]\n",
    "        while index < len(dict_list):\n",
    "            element = dict_list[index]\n",
    "            try:\n",
    "                if element[1][0] == 'car':\n",
    "                    cars_list.append(Car(*element[1][0:5]))\n",
    "                elif element[1][0] == 'truck':\n",
    "                    cars_list.append(Truck(*element[1][0:5]))\n",
    "                elif element[1][0] == 'spec_machine':\n",
    "                    cars_list.append(SpecMachine(*element[1][0:5]))\n",
    "            except(ValueError, TypeError):\n",
    "                pass\n",
    "            index += 1\n",
    "\n",
    "    with open(csv_filename) as csv_fd:\n",
    "        reader = csv.reader(csv_fd, delimiter=\";\")\n",
    "        next(reader)\n",
    "        rows_list = []\n",
    "        for row in reader:\n",
    "            rows_list.append(row)\n",
    "\n",
    "        make_vars('car', rows_list)\n",
    "        make_list()\n",
    "        \n",
    "    print(variable_dict)\n",
    "    return cars_list\n"
   ]
  },
  {
   "cell_type": "code",
   "execution_count": 23,
   "metadata": {},
   "outputs": [
    {
     "name": "stdout",
     "output_type": "stream",
     "text": [
      "{'car0': ['car', 'Nissan xTtrail', '4', 'f1.jpeg', '', '2.5', ''], 'car1': ['truck', 'Man', '', 'f2.png', '8x3x2.5', '20', ''], 'car2': ['truck', 'Man', '', 'f2.png', '', '20', ''], 'car3': ['car', 'Mazda 6', '4', 'f3.jpeg', '', '2.5', ''], 'car4': ['', '', '', ''], 'car5': ['spec_machine', 'Hitachi', '', 'f4', '', '1.2', 'Р›РµРіРєР°СЏ С‚РµС…РЅРёРєР° РґР»СЏ СѓР±РѕСЂРєРё СЃРЅРµРіР°']}\n"
     ]
    },
    {
     "ename": "TypeError",
     "evalue": "__init__() takes 6 positional arguments but 8 were given",
     "output_type": "error",
     "traceback": [
      "\u001b[1;31m---------------------------------------------------------------------------\u001b[0m",
      "\u001b[1;31mTypeError\u001b[0m                                 Traceback (most recent call last)",
      "\u001b[1;32m<ipython-input-23-dc255433a82d>\u001b[0m in \u001b[0;36m<module>\u001b[1;34m\u001b[0m\n\u001b[0;32m      1\u001b[0m \u001b[0mget_car_list\u001b[0m\u001b[1;33m(\u001b[0m\u001b[1;34m'cars.csv'\u001b[0m\u001b[1;33m)\u001b[0m\u001b[1;33m\u001b[0m\u001b[1;33m\u001b[0m\u001b[0m\n\u001b[1;32m----> 2\u001b[1;33m \u001b[0mtest_truck\u001b[0m \u001b[1;33m=\u001b[0m \u001b[0mTruck\u001b[0m\u001b[1;33m(\u001b[0m\u001b[1;34m'truck'\u001b[0m\u001b[1;33m,\u001b[0m \u001b[1;34m'Man'\u001b[0m\u001b[1;33m,\u001b[0m \u001b[1;34m''\u001b[0m\u001b[1;33m,\u001b[0m \u001b[1;34m'f2.png'\u001b[0m\u001b[1;33m,\u001b[0m \u001b[1;34m'8x3x2.5'\u001b[0m\u001b[1;33m,\u001b[0m \u001b[1;34m'20'\u001b[0m\u001b[1;33m,\u001b[0m \u001b[1;34m''\u001b[0m\u001b[1;33m)\u001b[0m\u001b[1;33m\u001b[0m\u001b[1;33m\u001b[0m\u001b[0m\n\u001b[0m\u001b[0;32m      3\u001b[0m \u001b[0mprint\u001b[0m\u001b[1;33m(\u001b[0m\u001b[0mtest_truck\u001b[0m\u001b[1;33m)\u001b[0m\u001b[1;33m\u001b[0m\u001b[1;33m\u001b[0m\u001b[0m\n",
      "\u001b[1;31mTypeError\u001b[0m: __init__() takes 6 positional arguments but 8 were given"
     ]
    }
   ],
   "source": [
    "get_car_list('cars.csv')\n",
    "test_truck = Truck('truck', 'Man', '', 'f2.png', '8x3x2.5', '20', '')\n",
    "print(test_truck)"
   ]
  },
  {
   "cell_type": "code",
   "execution_count": 9,
   "metadata": {},
   "outputs": [],
   "source": [
    "import os \n",
    "import csv\n",
    "\n",
    "class CarBase:\n",
    "    def __init__(self, car_type, brand, photo_file_name, carrying):\n",
    "        allowed_attr = ('car', 'truck', 'spec_machine')\n",
    "        if car_type not in allowed_attr:\n",
    "            raise ValueError(\"Car type should be 'car', 'truck', or 'spec_machine' only\")\n",
    "        else:\n",
    "            self.car_type = car_type\n",
    "        self.brand = brand\n",
    "        self.photo_file_name = photo_file_name\n",
    "        if carrying == '':\n",
    "            self.carrying = carrying\n",
    "        else:\n",
    "            self.carrying = float(carrying)\n",
    "\n",
    "    def get_photo_file_ext(self):\n",
    "        path_ext = path.splitext(self.photo_file_name)\n",
    "        return path_ext[1]\n",
    "        \n",
    "class Car(CarBase):\n",
    "    def __init__(self, car_type, brand, passenger_seats_count, photo_file_name, carrying):\n",
    "        super().__init__(car_type, brand, photo_file_name, carrying)\n",
    "        self.passenger_seats_count = int(passenger_seats_count)\n",
    "\n",
    "\n",
    "class Truck(CarBase):\n",
    "    def __init__(self, car_type, brand, photo_file_name, body_whl, carrying):\n",
    "        super().__init__(car_type, brand, photo_file_name, carrying)\n",
    "        self.body_whl = body_whl\n",
    "        if body_whl is \"\":\n",
    "            self.body_length, self.body_width, self.body_height = float(0)\n",
    "        else:\n",
    "            self.body_length, self.body_width, self.body_height = [float(param) for param in body_whl.split('x')]\n",
    "\n",
    "    def get_body_volume(self):\n",
    "        volume = self.body_length * self.body_width * self.body_height\n",
    "        return volume \n",
    "\n",
    "\n",
    "class SpecMachine(CarBase):\n",
    "    def __init__(self, car_type, brand, photo_file_name, carrying, extra):\n",
    "        super().__init__(car_type, brand, photo_file_name, carrying)\n",
    "        self.extra = extra\n",
    "\n",
    "class CsvParser:\n",
    "    def __init__(self, lst):\n",
    "        self.lst = lst\n",
    "    \n",
    "\"\"\"    @staticmethod\n",
    "    def error_raise():\n",
    "        def wrapped(func):\n",
    "            vars_dict = func()\n",
    "            for value in vars_dict.values():\n",
    "                if value == []:\n",
    "                    raise KeyError\n",
    "                elif value \n",
    "                \n",
    "\"\"\"                \n",
    "                    \n",
    "            \n",
    "    \n",
    "    @property\n",
    "    def vars_dict(self, sub_id='car_id_', index=0):\n",
    "        vars_dict = {}\n",
    "        for _ in range(len(self.lst)):\n",
    "            key = '{}{}'.format(sub_id, index)\n",
    "            value = self.lst[index]\n",
    "            vars_dict[key] = value\n",
    "            index += 1\n",
    "        return vars_dict\n",
    "\n",
    "    "
   ]
  },
  {
   "cell_type": "code",
   "execution_count": 10,
   "metadata": {},
   "outputs": [
    {
     "name": "stdout",
     "output_type": "stream",
     "text": [
      "{'car_id_0': ['car', 'Nissan xTtrail', '4', 'f1.jpeg', '', '2.5', ''], 'car_id_1': ['truck', 'Man', '', 'f2.png', '8x3x2.5', '20', ''], 'car_id_2': ['truck', 'Man', '', 'f2.png', '', '20', ''], 'car_id_3': ['car', 'Mazda 6', '4', 'f3.jpeg', '', '2.5', ''], 'car_id_4': ['', '', '', ''], 'car_id_5': ['spec_machine', 'Hitachi', '', 'f4', '', '1.2', 'Р›РµРіРєР°СЏ С‚РµС…РЅРёРєР° РґР»СЏ СѓР±РѕСЂРєРё СЃРЅРµРіР°']}\n"
     ]
    }
   ],
   "source": [
    "rows_list = []\n",
    "\n",
    "with open('cars.csv') as csv_fd:\n",
    "        reader = csv.reader(csv_fd, delimiter=\";\")\n",
    "        next(reader)\n",
    "        for row in reader:\n",
    "            rows_list.append(row)\n",
    "\n",
    "main = CsvParser(rows_list)\n",
    "print(main.vars_dict)\n"
   ]
  },
  {
   "cell_type": "code",
   "execution_count": null,
   "metadata": {},
   "outputs": [],
   "source": []
  }
 ],
 "metadata": {
  "kernelspec": {
   "display_name": "Python 3",
   "language": "python",
   "name": "python3"
  },
  "language_info": {
   "codemirror_mode": {
    "name": "ipython",
    "version": 3
   },
   "file_extension": ".py",
   "mimetype": "text/x-python",
   "name": "python",
   "nbconvert_exporter": "python",
   "pygments_lexer": "ipython3",
   "version": "3.7.1"
  }
 },
 "nbformat": 4,
 "nbformat_minor": 2
}
