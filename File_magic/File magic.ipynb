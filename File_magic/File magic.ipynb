{
 "cells": [
  {
   "cell_type": "code",
   "execution_count": 45,
   "metadata": {},
   "outputs": [],
   "source": [
    "import tempfile\n",
    "from os import path\n",
    "\n",
    "class File:\n",
    "    \n",
    "    def __init__(self, path):\n",
    "        self.path = path\n",
    "        self.name = self.path.split('/')[-1]\n",
    "        \n",
    "    def write(self, string):\n",
    "        with open(self.path, 'w') as f:\n",
    "            f.write(string)\n",
    "            \n",
    "    def read(self):\n",
    "        with open(self.path, 'r') as f:\n",
    "            return f.read()\n",
    "        \n",
    "    def __add__(self, other):\n",
    "        name_string = 'file_from_{}_and_{}'.format(self.name, other.name)\n",
    "        new_file_path = '{}/{}'.format(tempfile.gettempdir(), name_string)\n",
    "        _new = File(new_file_path)\n",
    "        with open(_new.path, 'w') as f:\n",
    "            file_contents = '{}{}'.format(self.read(), other.read())\n",
    "            f.write(file_contents)\n",
    "        return _new\n",
    "    \n",
    "    def __repr__(self):\n",
    "        return self.path\n",
    "\n",
    "    \n",
    "    "
   ]
  },
  {
   "cell_type": "code",
   "execution_count": 46,
   "metadata": {},
   "outputs": [
    {
     "name": "stdout",
     "output_type": "stream",
     "text": [
      "/tmp/file_from_soma.txt_and_lol.txt\n"
     ]
    },
    {
     "data": {
      "text/plain": [
       "'test1test2'"
      ]
     },
     "execution_count": 46,
     "metadata": {},
     "output_type": "execute_result"
    }
   ],
   "source": [
    "a = File('/tmp/soma.txt')\n",
    "b = File('/tmp/lol.txt')\n",
    "a.write('test1')\n",
    "b.write('test2')\n",
    "c = a + b\n",
    "print(c)\n",
    "c.read()\n"
   ]
  },
  {
   "cell_type": "code",
   "execution_count": null,
   "metadata": {},
   "outputs": [],
   "source": []
  }
 ],
 "metadata": {
  "kernelspec": {
   "display_name": "Python 3",
   "language": "python",
   "name": "python3"
  },
  "language_info": {
   "codemirror_mode": {
    "name": "ipython",
    "version": 3
   },
   "file_extension": ".py",
   "mimetype": "text/x-python",
   "name": "python",
   "nbconvert_exporter": "python",
   "pygments_lexer": "ipython3",
   "version": "3.6.5"
  }
 },
 "nbformat": 4,
 "nbformat_minor": 2
}
