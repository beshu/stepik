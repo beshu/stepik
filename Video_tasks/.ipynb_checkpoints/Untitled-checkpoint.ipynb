{
 "cells": [
  {
   "cell_type": "code",
   "execution_count": 1,
   "metadata": {},
   "outputs": [],
   "source": [
    "class Container:\n",
    "    def __init__(self, obj_type):\n",
    "        if obj_type == 'dict':\n",
    "            self = {}\n",
    "        elif obj_type == 'list':\n",
    "            self = []\n",
    "        \n",
    "        \n",
    "    def __getitem__(self):\n",
    "        print(\"Searching for entry\")\n",
    "        return self.__getitem__()\n",
    "    \n",
    "    def __setitem__(self):\n",
    "        print(\"Adding new entry\")\n",
    "        return self.__setitem__()\n",
    "\n",
    "        "
   ]
  },
  {
   "cell_type": "code",
   "execution_count": null,
   "metadata": {},
   "outputs": [],
   "source": [
    "new_dict = Container()"
   ]
  }
 ],
 "metadata": {
  "kernelspec": {
   "display_name": "Python 3",
   "language": "python",
   "name": "python3"
  },
  "language_info": {
   "codemirror_mode": {
    "name": "ipython",
    "version": 3
   },
   "file_extension": ".py",
   "mimetype": "text/x-python",
   "name": "python",
   "nbconvert_exporter": "python",
   "pygments_lexer": "ipython3",
   "version": "3.6.5"
  }
 },
 "nbformat": 4,
 "nbformat_minor": 2
}
